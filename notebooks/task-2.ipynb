{
 "cells": [
  {
   "cell_type": "code",
   "execution_count": 1,
   "id": "30c28eee",
   "metadata": {},
   "outputs": [],
   "source": [
    "import os\n",
    "import pandas as pd\n",
    "from sentence_transformers import SentenceTransformer\n",
    "from langchain.text_splitter import RecursiveCharacterTextSplitter\n",
    "import chromadb\n",
    "from chromadb.config import Settings\n"
   ]
  },
  {
   "cell_type": "markdown",
   "id": "82d5c44a",
   "metadata": {},
   "source": [
    "####  Load cleaned data"
   ]
  },
  {
   "cell_type": "code",
   "execution_count": 2,
   "id": "69e895d3",
   "metadata": {},
   "outputs": [],
   "source": [
    "df = pd.read_csv('../data/filtered_complaints.csv', low_memory=False)\n"
   ]
  },
  {
   "cell_type": "markdown",
   "id": "8f45e408",
   "metadata": {},
   "source": [
    "#### Set chunking parameters"
   ]
  },
  {
   "cell_type": "code",
   "execution_count": null,
   "id": "8fef50a2",
   "metadata": {},
   "outputs": [],
   "source": [
    "chunk_size = 300  # characters per chunk\n",
    "chunk_overlap = 50  # overlap between chunks"
   ]
  },
  {
   "cell_type": "markdown",
   "id": "6154263a",
   "metadata": {},
   "source": [
    "#### Initialize text splitter"
   ]
  },
  {
   "cell_type": "code",
   "execution_count": null,
   "id": "cd95d929",
   "metadata": {},
   "outputs": [],
   "source": [
    "splitter = RecursiveCharacterTextSplitter(\n",
    "    chunk_size=chunk_size,\n",
    "    chunk_overlap=chunk_overlap\n",
    ")"
   ]
  },
  {
   "cell_type": "markdown",
   "id": "db7f5003",
   "metadata": {},
   "source": [
    "#### Prepare data for chunking"
   ]
  },
  {
   "cell_type": "code",
   "execution_count": 6,
   "id": "0a688170",
   "metadata": {},
   "outputs": [],
   "source": [
    "chunks = []\n",
    "metadatas = []\n",
    "\n",
    "for idx, row in df.iterrows():\n",
    "    text = str(row['clean_narrative'])\n",
    "    complaint_id = row.get('Complaint ID', idx)\n",
    "    product = row.get('Product', '')\n",
    "    # Split text into chunks\n",
    "    for chunk in splitter.split_text(text):\n",
    "        chunks.append(chunk)\n",
    "        metadatas.append({\n",
    "            'complaint_id': complaint_id,\n",
    "            'product': product,\n",
    "            'row_idx': idx\n",
    "        })\n"
   ]
  },
  {
   "cell_type": "markdown",
   "id": "5cb55d08",
   "metadata": {},
   "source": [
    "#### Load embedding model"
   ]
  },
  {
   "cell_type": "code",
   "execution_count": null,
   "id": "aa4bd64f",
   "metadata": {},
   "outputs": [],
   "source": [
    "model = SentenceTransformer('all-MiniLM-L6-v2')"
   ]
  },
  {
   "cell_type": "markdown",
   "id": "709ee19e",
   "metadata": {},
   "source": [
    "#### Generate embeddings for all chunks"
   ]
  },
  {
   "cell_type": "code",
   "execution_count": null,
   "id": "7a5d7572",
   "metadata": {},
   "outputs": [],
   "source": [
    "embeddings = model.encode(chunks, show_progress_bar=True, convert_to_numpy=True)"
   ]
  },
  {
   "cell_type": "markdown",
   "id": "3071ab50",
   "metadata": {},
   "source": [
    "#### Create ChromaDB client and collection"
   ]
  },
  {
   "cell_type": "code",
   "execution_count": 8,
   "id": "678416f6",
   "metadata": {},
   "outputs": [],
   "source": [
    "os.makedirs('../vector_store', exist_ok=True)\n",
    "chroma_client = chromadb.PersistentClient(path=\"../vector_store\" )\n",
    "collection = chroma_client.get_or_create_collection(\"complaints\")\n"
   ]
  },
  {
   "cell_type": "markdown",
   "id": "86de9efa",
   "metadata": {},
   "source": [
    "#### Add chunks and embeddings to ChromaDB"
   ]
  },
  {
   "cell_type": "code",
   "execution_count": null,
   "id": "77650127",
   "metadata": {},
   "outputs": [],
   "source": [
    "batch_size = 5000  # or 5461, or less\n",
    "\n",
    "for i in range(0, len(chunks), batch_size):\n",
    "    collection.add(\n",
    "        embeddings=embeddings[i:i+batch_size].tolist(),\n",
    "        documents=chunks[i:i+batch_size],\n",
    "        metadatas=metadatas[i:i+batch_size],\n",
    "        ids=[str(j) for j in range(i, min(i+batch_size, len(chunks)))]\n",
    "    )\n"
   ]
  },
  {
   "cell_type": "markdown",
   "id": "a4388d4c",
   "metadata": {},
   "source": [
    "#### Check number of chuncks"
   ]
  },
  {
   "cell_type": "code",
   "execution_count": 7,
   "id": "44518cfc",
   "metadata": {},
   "outputs": [
    {
     "name": "stdout",
     "output_type": "stream",
     "text": [
      "Indexed 378888 chunks. Vector store saved in '../vector_store/'.\n"
     ]
    }
   ],
   "source": [
    "print(f\"Indexed {len(chunks)} chunks. Vector store saved in '../vector_store/'.\")\n"
   ]
  }
 ],
 "metadata": {
  "kernelspec": {
   "display_name": "venv",
   "language": "python",
   "name": "python3"
  },
  "language_info": {
   "codemirror_mode": {
    "name": "ipython",
    "version": 3
   },
   "file_extension": ".py",
   "mimetype": "text/x-python",
   "name": "python",
   "nbconvert_exporter": "python",
   "pygments_lexer": "ipython3",
   "version": "3.13.3"
  }
 },
 "nbformat": 4,
 "nbformat_minor": 5
}
