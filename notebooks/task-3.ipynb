{
 "cells": [
  {
   "cell_type": "markdown",
   "id": "cd366d4d",
   "metadata": {},
   "source": [
    "# Retriever Implementation"
   ]
  },
  {
   "cell_type": "code",
   "execution_count": 2,
   "id": "c0a181f7",
   "metadata": {},
   "outputs": [],
   "source": [
    "from sentence_transformers import SentenceTransformer\n",
    "from chromadb import PersistentClient\n",
    "import numpy as np"
   ]
  },
  {
   "cell_type": "code",
   "execution_count": 3,
   "id": "a7cca1b4",
   "metadata": {},
   "outputs": [],
   "source": [
    "model = SentenceTransformer('all-MiniLM-L6-v2')\n",
    "client = PersistentClient(path=\"../vector_store/\")  # Adjust path\n",
    "collection = client.get_collection(name='complaints')"
   ]
  },
  {
   "cell_type": "markdown",
   "id": "5bbee6b8",
   "metadata": {},
   "source": [
    "#### Query Embedding"
   ]
  },
  {
   "cell_type": "code",
   "execution_count": 4,
   "id": "aaeff453",
   "metadata": {},
   "outputs": [],
   "source": [
    "def embed_query(question: str):\n",
    "    return model.encode([question])[0].tolist()\n",
    "\n",
    "def retrieve_top_k(question: str, k=5):\n",
    "    query_embedding = embed_query(question)\n",
    "    results = collection.query(\n",
    "        query_embeddings=[query_embedding],\n",
    "        n_results=k\n",
    "    )\n",
    "    documents = results['documents'][0]\n",
    "    distances = results['distances'][0]\n",
    "    return documents, distances"
   ]
  },
  {
   "cell_type": "code",
   "execution_count": 6,
   "id": "7cdc4354",
   "metadata": {},
   "outputs": [
    {
     "data": {
      "application/vnd.jupyter.widget-view+json": {
       "model_id": "990be06f8992446db30ef853bdc5f6c6",
       "version_major": 2,
       "version_minor": 0
      },
      "text/plain": [
       "config.json: 0.00B [00:00, ?B/s]"
      ]
     },
     "metadata": {},
     "output_type": "display_data"
    },
    {
     "name": "stderr",
     "output_type": "stream",
     "text": [
      "c:\\Users\\girmachew\\Intelligent_Complaint_Analysis_for_Financial_Services\\venv\\Lib\\site-packages\\huggingface_hub\\file_download.py:143: UserWarning: `huggingface_hub` cache-system uses symlinks by default to efficiently store duplicated files but your machine does not support them in C:\\Users\\girmachew\\.cache\\huggingface\\hub\\models--google--flan-t5-base. Caching files will still work but in a degraded version that might require more space on your disk. This warning can be disabled by setting the `HF_HUB_DISABLE_SYMLINKS_WARNING` environment variable. For more details, see https://huggingface.co/docs/huggingface_hub/how-to-cache#limitations.\n",
      "To support symlinks on Windows, you either need to activate Developer Mode or to run Python as an administrator. In order to activate developer mode, see this article: https://docs.microsoft.com/en-us/windows/apps/get-started/enable-your-device-for-development\n",
      "  warnings.warn(message)\n",
      "Xet Storage is enabled for this repo, but the 'hf_xet' package is not installed. Falling back to regular HTTP download. For better performance, install the package with: `pip install huggingface_hub[hf_xet]` or `pip install hf_xet`\n",
      "Xet Storage is enabled for this repo, but the 'hf_xet' package is not installed. Falling back to regular HTTP download. For better performance, install the package with: `pip install huggingface_hub[hf_xet]` or `pip install hf_xet`\n"
     ]
    },
    {
     "data": {
      "application/vnd.jupyter.widget-view+json": {
       "model_id": "f7930c6894804341ada8d1777e0a7d88",
       "version_major": 2,
       "version_minor": 0
      },
      "text/plain": [
       "model.safetensors:   0%|          | 0.00/990M [00:00<?, ?B/s]"
      ]
     },
     "metadata": {},
     "output_type": "display_data"
    },
    {
     "data": {
      "application/vnd.jupyter.widget-view+json": {
       "model_id": "13958ea8f67840d7ae537ce5bf892bd8",
       "version_major": 2,
       "version_minor": 0
      },
      "text/plain": [
       "generation_config.json:   0%|          | 0.00/147 [00:00<?, ?B/s]"
      ]
     },
     "metadata": {},
     "output_type": "display_data"
    },
    {
     "data": {
      "application/vnd.jupyter.widget-view+json": {
       "model_id": "85553615e14f4d0d87b70dd2631be47b",
       "version_major": 2,
       "version_minor": 0
      },
      "text/plain": [
       "tokenizer_config.json: 0.00B [00:00, ?B/s]"
      ]
     },
     "metadata": {},
     "output_type": "display_data"
    },
    {
     "name": "stderr",
     "output_type": "stream",
     "text": [
      "Xet Storage is enabled for this repo, but the 'hf_xet' package is not installed. Falling back to regular HTTP download. For better performance, install the package with: `pip install huggingface_hub[hf_xet]` or `pip install hf_xet`\n"
     ]
    },
    {
     "data": {
      "application/vnd.jupyter.widget-view+json": {
       "model_id": "beee5d7592324276a1e886663f3034ac",
       "version_major": 2,
       "version_minor": 0
      },
      "text/plain": [
       "spiece.model:   0%|          | 0.00/792k [00:00<?, ?B/s]"
      ]
     },
     "metadata": {},
     "output_type": "display_data"
    },
    {
     "data": {
      "application/vnd.jupyter.widget-view+json": {
       "model_id": "fcd69d4124a141dbbd745fbef10cd380",
       "version_major": 2,
       "version_minor": 0
      },
      "text/plain": [
       "tokenizer.json: 0.00B [00:00, ?B/s]"
      ]
     },
     "metadata": {},
     "output_type": "display_data"
    },
    {
     "data": {
      "application/vnd.jupyter.widget-view+json": {
       "model_id": "15dda1fc39e3443a8cd76fbd1013f69f",
       "version_major": 2,
       "version_minor": 0
      },
      "text/plain": [
       "special_tokens_map.json: 0.00B [00:00, ?B/s]"
      ]
     },
     "metadata": {},
     "output_type": "display_data"
    },
    {
     "name": "stderr",
     "output_type": "stream",
     "text": [
      "Device set to use cpu\n"
     ]
    },
    {
     "name": "stdout",
     "output_type": "stream",
     "text": [
      "Generated Answer: being charged more interest and having issues even making payments on the card because they keep canceling my cards many times cards on a daily basis with no issue as i believe most americans do as these are extremely common for every day use\n",
      "Retrieved Sources: ['place and i have never had any issues like this with any credit cards ever before', 'when there is nothing wrong with the credit account']\n"
     ]
    }
   ],
   "source": [
    "# --- Prompt Engineering ---\n",
    "PROMPT_TEMPLATE = \"\"\"\n",
    "You are a financial analyst assistant for CrediTrust. Your task is to answer questions about customer complaints.\\nUse the following retrieved complaint excerpts to formulate your answer. If the context doesn't contain the answer, state that you don't have enough information.\\n\\nContext:\\n{context}\\n\\nQuestion: {question}\\nAnswer:\n",
    "\"\"\"\n",
    "\n",
    "# --- Generator Implementation ---\n",
    "from transformers import pipeline\n",
    "\n",
    "def rag_answer(question, k=5, max_context_length=1500):\n",
    "    docs, _ = retrieve_top_k(question, k)\n",
    "    # Concatenate docs, truncate if too long\n",
    "    context = \"\\n\\n\".join(docs)\n",
    "    if len(context) > max_context_length:\n",
    "        context = context[:max_context_length]\n",
    "    prompt = PROMPT_TEMPLATE.format(context=context, question=question)\n",
    "    # Use a small open-access LLM for demonstration; replace with your preferred model\n",
    "    generator = pipeline(\"text2text-generation\", model=\"google/flan-t5-base\", device=-1)\n",
    "    response = generator(prompt, max_new_tokens=256, do_sample=True)[0]['generated_text']\n",
    "    # Extract only the answer part (after \"Answer:\")\n",
    "    answer = response.split(\"Answer:\")[-1].strip()\n",
    "    return answer, docs\n",
    "\n",
    "# --- Example Usage ---\n",
    "example_question = \"What are common issues with credit card payments?\"\n",
    "answer, sources = rag_answer(example_question)\n",
    "print(\"Generated Answer:\", answer)\n",
    "print(\"Retrieved Sources:\", sources[:2])  # Show 1-2 sources"
   ]
  },
  {
   "cell_type": "markdown",
   "id": "c4ca4599",
   "metadata": {},
   "source": [
    "## RAG Pipeline Evaluation Table\n",
    "\n",
    "Below is an evaluation table for the RAG system. For each question, the generated answer, top retrieved sources, quality score, and comments are provided.\n",
    "\n",
    "| Question | Generated Answer | Retrieved Sources (1-2) | Quality Score (1-5) | Comments/Analysis |\n",
    "|---|---|---|---|---|\n",
    "| What are common issues with credit card payments? |  |  |  |  |\n",
    "| How do consumers describe problems with money transfers? |  |  |  |  |\n",
    "| Are there frequent complaints about personal loans? |  |  |  |  |\n",
    "| What are typical reasons for savings account disputes? |  |  |  |  |\n",
    "| How do customers feel about Buy Now, Pay Later services? |  |  |  |  |\n",
    "| What is a common resolution for debt collection complaints? |  |  |  |  |\n",
    "| Are there trends in complaints about mortgage services? |  |  |  |  |\n",
    "| How quickly do companies respond to complaints? |  |  |  |  |\n",
    "| What are the most cited issues with prepaid cards? |  |  |  |  |\n",
    "| Do consumers report satisfaction after complaint resolution? |  |  |  |  |"
   ]
  },
  {
   "cell_type": "code",
   "execution_count": 7,
   "id": "b0e0a4b8",
   "metadata": {},
   "outputs": [
    {
     "name": "stdout",
     "output_type": "stream",
     "text": [
      "\n",
      "Question 1: What are common issues with credit card payments?\n"
     ]
    },
    {
     "name": "stderr",
     "output_type": "stream",
     "text": [
      "Device set to use cpu\n"
     ]
    },
    {
     "name": "stdout",
     "output_type": "stream",
     "text": [
      "Generated Answer: being charged more interest and having issues even making payments on the card because they keep canceling my cards many times cards on a daily basis with no issue as i believe most americans do as these are extremely common for every day use\n",
      "Top 2 Retrieved Sources:\n",
      "- place and i have never had any issues like this with any credit cards ever before ...\n",
      "\n",
      "- when there is nothing wrong with the credit account ...\n",
      "\n",
      "\n",
      "Question 2: How do consumers describe problems with money transfers?\n"
     ]
    },
    {
     "name": "stderr",
     "output_type": "stream",
     "text": [
      "Device set to use cpu\n"
     ]
    },
    {
     "name": "stdout",
     "output_type": "stream",
     "text": [
      "Generated Answer: they are now showing it as a cash advance item which is subject to an additional 1000 fee and the much inflated interest rate for cash advances first no notice was sent that this was happening second it feels predatory on a population of consumers who tend to be the s accounts and holding money and then just expect consumers to have to call and work things out or whatever they may expect what it is it would be wrong a pattern of behavior that may mislead other consumers\n",
      "Top 2 Retrieved Sources:\n",
      "- causes a financial hardship for the customer and the recipient which further delays the necessity of the transfer of funds ...\n",
      "\n",
      "- that they could not offer any protections for electronic money transfer this is unacceptable consumers need to have some sort of recourse in the event of fraud ...\n",
      "\n",
      "\n",
      "Question 3: Are there frequent complaints about personal loans?\n"
     ]
    },
    {
     "name": "stderr",
     "output_type": "stream",
     "text": [
      "Device set to use cpu\n"
     ]
    },
    {
     "name": "stdout",
     "output_type": "stream",
     "text": [
      "Generated Answer: no\n",
      "Top 2 Retrieved Sources:\n",
      "- from a business concern which you will see in the evidence then when i believe it can get worse i see on my credit monitor app which is xxxx xxxx one of them that they made 2 hard inquiries in my name its states that it was loans like i filled out 2 applications for loans or credit card but because ...\n",
      "\n",
      "- of the xxxx of complaints and negative reviews across xxxx xxxx xxxx xxxx xxxx etc i ask for your help to ensure xxxx does not continue to favor xxxx when disputes are filed i hope with your assistance that xxxx will do the right thing since i have paid 4200000 on these loans to date this same ...\n",
      "\n",
      "\n",
      "Question 4: What are typical reasons for savings account disputes?\n"
     ]
    },
    {
     "name": "stderr",
     "output_type": "stream",
     "text": [
      "Device set to use cpu\n"
     ]
    },
    {
     "name": "stdout",
     "output_type": "stream",
     "text": [
      "Generated Answer: computer error\n",
      "Top 2 Retrieved Sources:\n",
      "- checking and savings accounts i was unaware these accounts were delinquent and had i know this was an issue i wouldve included it in my xxxx xxxx bankruptcy plan i was with citizens bank for nearly xxxx years into adulthood and the issue of the bank accounts was always a computer error on their ...\n",
      "\n",
      "- initially i was going to file a complaint with the seller but realized this is for banking institutions only i have a spending account with xxxx whose banking is done by xxxx or the xxxx xxxx xxxx however they continuously mishandle disputes i have now filed atleast xxxx disputes for the same matter ...\n",
      "\n",
      "\n",
      "Question 5: How do customers feel about Buy Now, Pay Later services?\n"
     ]
    },
    {
     "name": "stderr",
     "output_type": "stream",
     "text": [
      "Device set to use cpu\n"
     ]
    },
    {
     "name": "stdout",
     "output_type": "stream",
     "text": [
      "Generated Answer: they are the worst in terms of being customerfriendly\n",
      "Top 2 Retrieved Sources:\n",
      "- would make it right for their customer that always pay more than due and early ...\n",
      "\n",
      "- customers should make their own decisions as to whether a service is to their benefit or not by the way they are the worst in terms of being customerfriendly they sound exactly the opposite b of course it s possible to add money to wallet let s do this again then they take you thru a series of ...\n",
      "\n",
      "\n",
      "Question 6: What is a common resolution for debt collection complaints?\n"
     ]
    },
    {
     "name": "stderr",
     "output_type": "stream",
     "text": [
      "Device set to use cpu\n"
     ]
    },
    {
     "name": "stdout",
     "output_type": "stream",
     "text": [
      "Generated Answer: disputing this debt\n",
      "Top 2 Retrieved Sources:\n",
      "- debt department i am unsatisfied on how they have handled this issue ...\n",
      "\n",
      "- surrounding the legal collection of consumer debt ...\n",
      "\n",
      "\n",
      "Question 7: Are there trends in complaints about mortgage services?\n"
     ]
    },
    {
     "name": "stderr",
     "output_type": "stream",
     "text": [
      "Device set to use cpu\n"
     ]
    },
    {
     "name": "stdout",
     "output_type": "stream",
     "text": [
      "Generated Answer: similar experiences shared by other dissatisfied customers\n",
      "Top 2 Retrieved Sources:\n",
      "- impact my ability to secure a mortgage and move forward with my home purchase thank you for your prompt attention to this matter please let me know if you require additional information to process this complaint ...\n",
      "\n",
      "- that i can get a mortgage without having to pay a higher interest rate key bank customer service stated that this has been happening to other customers but it seems like they have done nothing to fix the problem of billing and causing hardship to customers ...\n",
      "\n",
      "\n",
      "Question 8: How quickly do companies respond to complaints?\n"
     ]
    },
    {
     "name": "stderr",
     "output_type": "stream",
     "text": [
      "Device set to use cpu\n"
     ]
    },
    {
     "name": "stdout",
     "output_type": "stream",
     "text": [
      "Generated Answer: 510 business days\n",
      "Top 2 Retrieved Sources:\n",
      "- of their reporting and their handling of consumer complaints ...\n",
      "\n",
      "- complaints management office i have tried numerous times to contact this person via phone and email and have never received any response all that i received are emails stating that they need more time to research my complaint i have received these emails on xxxxxxxx stating will followup by ...\n",
      "\n",
      "\n",
      "Question 9: What are the most cited issues with prepaid cards?\n"
     ]
    },
    {
     "name": "stderr",
     "output_type": "stream",
     "text": [
      "Device set to use cpu\n"
     ]
    },
    {
     "name": "stdout",
     "output_type": "stream",
     "text": [
      "Generated Answer: unreliable experience and are not transparent in their practices\n",
      "Top 2 Retrieved Sources:\n",
      "- unreliable experience and are not transparent in their practices additionally my customer experience has been horrible i have not only paid thousands in interests and membership fees by having these cards i have consistently paid my off my charges in a timely manner only to be treated as if i have ...\n",
      "\n",
      "- i was denied 3 different cards one of them was prepaid ...\n",
      "\n",
      "\n",
      "Question 10: Do consumers report satisfaction after complaint resolution?\n"
     ]
    },
    {
     "name": "stderr",
     "output_type": "stream",
     "text": [
      "Device set to use cpu\n"
     ]
    },
    {
     "name": "stdout",
     "output_type": "stream",
     "text": [
      "Generated Answer: no\n",
      "Top 2 Retrieved Sources:\n",
      "- of their reporting and their handling of consumer complaints ...\n",
      "\n",
      "- information contained in the consumer report you receive is inaccurate or incomplete you have the right to dispute the matter directly with the reporting agency xxxx xxxx xxxx xxxx xxxx xxxx xxxx xxxx xxxx xxxx xxxx xxxx xxxx xxxx xxxx xxxx xxxx xxxx xxxx xxxx xxxx xxxx xxxx xxxx xxxx xxxx xxxx ...\n",
      "\n"
     ]
    }
   ],
   "source": [
    "# Run RAG pipeline for evaluation questions\n",
    "questions = [\n",
    "    \"What are common issues with credit card payments?\",\n",
    "    \"How do consumers describe problems with money transfers?\",\n",
    "    \"Are there frequent complaints about personal loans?\",\n",
    "    \"What are typical reasons for savings account disputes?\",\n",
    "    \"How do customers feel about Buy Now, Pay Later services?\",\n",
    "    \"What is a common resolution for debt collection complaints?\",\n",
    "    \"Are there trends in complaints about mortgage services?\",\n",
    "    \"How quickly do companies respond to complaints?\",\n",
    "    \"What are the most cited issues with prepaid cards?\",\n",
    "    \"Do consumers report satisfaction after complaint resolution?\"\n",
    "]\n",
    "\n",
    "for i, q in enumerate(questions, 1):\n",
    "    print(f\"\\nQuestion {i}: {q}\")\n",
    "    answer, sources = rag_answer(q)\n",
    "    print(\"Generated Answer:\", answer)\n",
    "    print(\"Top 2 Retrieved Sources:\")\n",
    "    for s in sources[:2]:\n",
    "        print(\"-\", s[:300], \"...\\n\")  # Print first 300 chars for brevity"
   ]
  }
 ],
 "metadata": {
  "kernelspec": {
   "display_name": "venv",
   "language": "python",
   "name": "python3"
  },
  "language_info": {
   "codemirror_mode": {
    "name": "ipython",
    "version": 3
   },
   "file_extension": ".py",
   "mimetype": "text/x-python",
   "name": "python",
   "nbconvert_exporter": "python",
   "pygments_lexer": "ipython3",
   "version": "3.13.3"
  }
 },
 "nbformat": 4,
 "nbformat_minor": 5
}
