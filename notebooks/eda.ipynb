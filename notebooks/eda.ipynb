{
  "cells": [
    {
      "cell_type": "markdown",
      "id": "36f0eb6c",
      "metadata": {
        "id": "36f0eb6c"
      },
      "source": [
        "# Intelligent Complaint Analysis for Financial Services"
      ]
    },
    {
      "cell_type": "markdown",
      "id": "8f636291",
      "metadata": {
        "id": "8f636291"
      },
      "source": [
        "-----------------------------------------------------------------------------------------------"
      ]
    },
    {
      "cell_type": "code",
      "source": [
        "from google.colab import drive\n",
        "drive.mount('/content/drive')"
      ],
      "metadata": {
        "id": "a9CdNV3E6lz7",
        "outputId": "5cee278a-85b6-4c52-92c0-ea6022851acf",
        "colab": {
          "base_uri": "https://localhost:8080/"
        }
      },
      "id": "a9CdNV3E6lz7",
      "execution_count": 1,
      "outputs": [
        {
          "output_type": "stream",
          "name": "stdout",
          "text": [
            "Mounted at /content/drive\n"
          ]
        }
      ]
    },
    {
      "cell_type": "markdown",
      "id": "970a0f03",
      "metadata": {
        "id": "970a0f03"
      },
      "source": [
        "## EDA"
      ]
    },
    {
      "cell_type": "markdown",
      "id": "6b823642",
      "metadata": {
        "id": "6b823642"
      },
      "source": [
        "-----------------------------------------------------------------------------------------------"
      ]
    },
    {
      "cell_type": "markdown",
      "id": "7ba0fd6c",
      "metadata": {
        "id": "7ba0fd6c"
      },
      "source": [
        "## Import python Libraries"
      ]
    },
    {
      "cell_type": "code",
      "execution_count": null,
      "id": "2624eb42",
      "metadata": {
        "id": "2624eb42"
      },
      "outputs": [],
      "source": [
        "import os\n",
        "import sys\n",
        "import pandas as pd\n",
        "import matplotlib.pyplot as plt\n"
      ]
    },
    {
      "cell_type": "markdown",
      "id": "0f05a017",
      "metadata": {
        "id": "0f05a017"
      },
      "source": [
        "### System path"
      ]
    },
    {
      "cell_type": "code",
      "execution_count": null,
      "id": "849018f5",
      "metadata": {
        "id": "849018f5"
      },
      "outputs": [],
      "source": [
        "sys.path.append(os.path.abspath(os.path.join('..')))"
      ]
    },
    {
      "cell_type": "markdown",
      "id": "dffc2e62",
      "metadata": {
        "id": "dffc2e62"
      },
      "source": [
        "### Prepare dataframe"
      ]
    },
    {
      "cell_type": "code",
      "execution_count": null,
      "id": "0c1468f2",
      "metadata": {
        "id": "0c1468f2"
      },
      "outputs": [],
      "source": [
        "df = pd.read_csv('../data/complaints.csv', low_memory=False)"
      ]
    },
    {
      "cell_type": "markdown",
      "id": "13263bab",
      "metadata": {
        "id": "13263bab"
      },
      "source": [
        "#### List of columns"
      ]
    },
    {
      "cell_type": "code",
      "execution_count": null,
      "id": "a4b8e786",
      "metadata": {
        "id": "a4b8e786",
        "outputId": "f08a19af-ce2b-4524-8bad-8d6386caf81b"
      },
      "outputs": [
        {
          "data": {
            "text/plain": [
              "['Date received',\n",
              " 'Product',\n",
              " 'Sub-product',\n",
              " 'Issue',\n",
              " 'Sub-issue',\n",
              " 'Consumer complaint narrative',\n",
              " 'Company public response',\n",
              " 'Company',\n",
              " 'State',\n",
              " 'ZIP code',\n",
              " 'Tags',\n",
              " 'Consumer consent provided?',\n",
              " 'Submitted via',\n",
              " 'Date sent to company',\n",
              " 'Company response to consumer',\n",
              " 'Timely response?',\n",
              " 'Consumer disputed?',\n",
              " 'Complaint ID']"
            ]
          },
          "execution_count": 10,
          "metadata": {},
          "output_type": "execute_result"
        }
      ],
      "source": [
        "df.columns.tolist()"
      ]
    },
    {
      "cell_type": "markdown",
      "id": "bfb0c0d0",
      "metadata": {
        "id": "bfb0c0d0"
      },
      "source": [
        "#### The first five sample data"
      ]
    },
    {
      "cell_type": "code",
      "execution_count": null,
      "id": "6d5d7fe0",
      "metadata": {
        "id": "6d5d7fe0",
        "outputId": "81eb8b57-818f-4678-efb9-14072e60384f"
      },
      "outputs": [
        {
          "data": {
            "text/html": [
              "<div>\n",
              "<style scoped>\n",
              "    .dataframe tbody tr th:only-of-type {\n",
              "        vertical-align: middle;\n",
              "    }\n",
              "\n",
              "    .dataframe tbody tr th {\n",
              "        vertical-align: top;\n",
              "    }\n",
              "\n",
              "    .dataframe thead th {\n",
              "        text-align: right;\n",
              "    }\n",
              "</style>\n",
              "<table border=\"1\" class=\"dataframe\">\n",
              "  <thead>\n",
              "    <tr style=\"text-align: right;\">\n",
              "      <th></th>\n",
              "      <th>Date received</th>\n",
              "      <th>Product</th>\n",
              "      <th>Sub-product</th>\n",
              "      <th>Issue</th>\n",
              "      <th>Sub-issue</th>\n",
              "      <th>Consumer complaint narrative</th>\n",
              "      <th>Company public response</th>\n",
              "      <th>Company</th>\n",
              "      <th>State</th>\n",
              "      <th>ZIP code</th>\n",
              "      <th>Tags</th>\n",
              "      <th>Consumer consent provided?</th>\n",
              "      <th>Submitted via</th>\n",
              "      <th>Date sent to company</th>\n",
              "      <th>Company response to consumer</th>\n",
              "      <th>Timely response?</th>\n",
              "      <th>Consumer disputed?</th>\n",
              "      <th>Complaint ID</th>\n",
              "    </tr>\n",
              "  </thead>\n",
              "  <tbody>\n",
              "    <tr>\n",
              "      <th>0</th>\n",
              "      <td>2025-06-20</td>\n",
              "      <td>Credit reporting or other personal consumer re...</td>\n",
              "      <td>Credit reporting</td>\n",
              "      <td>Incorrect information on your report</td>\n",
              "      <td>Information belongs to someone else</td>\n",
              "      <td>NaN</td>\n",
              "      <td>NaN</td>\n",
              "      <td>Experian Information Solutions Inc.</td>\n",
              "      <td>FL</td>\n",
              "      <td>32092</td>\n",
              "      <td>NaN</td>\n",
              "      <td>NaN</td>\n",
              "      <td>Web</td>\n",
              "      <td>2025-06-20</td>\n",
              "      <td>In progress</td>\n",
              "      <td>Yes</td>\n",
              "      <td>NaN</td>\n",
              "      <td>14195687</td>\n",
              "    </tr>\n",
              "    <tr>\n",
              "      <th>1</th>\n",
              "      <td>2025-06-20</td>\n",
              "      <td>Debt collection</td>\n",
              "      <td>Telecommunications debt</td>\n",
              "      <td>Attempts to collect debt not owed</td>\n",
              "      <td>Debt is not yours</td>\n",
              "      <td>NaN</td>\n",
              "      <td>Company can't verify or dispute the facts in t...</td>\n",
              "      <td>Eastern Account Systems of Connecticut, Inc.</td>\n",
              "      <td>FL</td>\n",
              "      <td>342XX</td>\n",
              "      <td>NaN</td>\n",
              "      <td>NaN</td>\n",
              "      <td>Web</td>\n",
              "      <td>2025-06-20</td>\n",
              "      <td>Closed with explanation</td>\n",
              "      <td>Yes</td>\n",
              "      <td>NaN</td>\n",
              "      <td>14195688</td>\n",
              "    </tr>\n",
              "    <tr>\n",
              "      <th>2</th>\n",
              "      <td>2025-06-20</td>\n",
              "      <td>Credit reporting or other personal consumer re...</td>\n",
              "      <td>Credit reporting</td>\n",
              "      <td>Improper use of your report</td>\n",
              "      <td>Reporting company used your report improperly</td>\n",
              "      <td>NaN</td>\n",
              "      <td>NaN</td>\n",
              "      <td>TRANSUNION INTERMEDIATE HOLDINGS, INC.</td>\n",
              "      <td>AZ</td>\n",
              "      <td>85225</td>\n",
              "      <td>NaN</td>\n",
              "      <td>NaN</td>\n",
              "      <td>Web</td>\n",
              "      <td>2025-06-20</td>\n",
              "      <td>In progress</td>\n",
              "      <td>Yes</td>\n",
              "      <td>NaN</td>\n",
              "      <td>14195689</td>\n",
              "    </tr>\n",
              "    <tr>\n",
              "      <th>3</th>\n",
              "      <td>2025-06-20</td>\n",
              "      <td>Credit reporting or other personal consumer re...</td>\n",
              "      <td>Credit reporting</td>\n",
              "      <td>Improper use of your report</td>\n",
              "      <td>Reporting company used your report improperly</td>\n",
              "      <td>NaN</td>\n",
              "      <td>NaN</td>\n",
              "      <td>Experian Information Solutions Inc.</td>\n",
              "      <td>AZ</td>\n",
              "      <td>85225</td>\n",
              "      <td>NaN</td>\n",
              "      <td>NaN</td>\n",
              "      <td>Web</td>\n",
              "      <td>2025-06-20</td>\n",
              "      <td>In progress</td>\n",
              "      <td>Yes</td>\n",
              "      <td>NaN</td>\n",
              "      <td>14195690</td>\n",
              "    </tr>\n",
              "    <tr>\n",
              "      <th>4</th>\n",
              "      <td>2025-06-20</td>\n",
              "      <td>Credit reporting or other personal consumer re...</td>\n",
              "      <td>Credit reporting</td>\n",
              "      <td>Incorrect information on your report</td>\n",
              "      <td>Account status incorrect</td>\n",
              "      <td>NaN</td>\n",
              "      <td>NaN</td>\n",
              "      <td>Experian Information Solutions Inc.</td>\n",
              "      <td>IL</td>\n",
              "      <td>60628</td>\n",
              "      <td>NaN</td>\n",
              "      <td>NaN</td>\n",
              "      <td>Web</td>\n",
              "      <td>2025-06-20</td>\n",
              "      <td>In progress</td>\n",
              "      <td>Yes</td>\n",
              "      <td>NaN</td>\n",
              "      <td>14195692</td>\n",
              "    </tr>\n",
              "  </tbody>\n",
              "</table>\n",
              "</div>"
            ],
            "text/plain": [
              "  Date received                                            Product  \\\n",
              "0    2025-06-20  Credit reporting or other personal consumer re...   \n",
              "1    2025-06-20                                    Debt collection   \n",
              "2    2025-06-20  Credit reporting or other personal consumer re...   \n",
              "3    2025-06-20  Credit reporting or other personal consumer re...   \n",
              "4    2025-06-20  Credit reporting or other personal consumer re...   \n",
              "\n",
              "               Sub-product                                 Issue  \\\n",
              "0         Credit reporting  Incorrect information on your report   \n",
              "1  Telecommunications debt     Attempts to collect debt not owed   \n",
              "2         Credit reporting           Improper use of your report   \n",
              "3         Credit reporting           Improper use of your report   \n",
              "4         Credit reporting  Incorrect information on your report   \n",
              "\n",
              "                                       Sub-issue Consumer complaint narrative  \\\n",
              "0            Information belongs to someone else                          NaN   \n",
              "1                              Debt is not yours                          NaN   \n",
              "2  Reporting company used your report improperly                          NaN   \n",
              "3  Reporting company used your report improperly                          NaN   \n",
              "4                       Account status incorrect                          NaN   \n",
              "\n",
              "                             Company public response  \\\n",
              "0                                                NaN   \n",
              "1  Company can't verify or dispute the facts in t...   \n",
              "2                                                NaN   \n",
              "3                                                NaN   \n",
              "4                                                NaN   \n",
              "\n",
              "                                        Company State ZIP code Tags  \\\n",
              "0           Experian Information Solutions Inc.    FL    32092  NaN   \n",
              "1  Eastern Account Systems of Connecticut, Inc.    FL    342XX  NaN   \n",
              "2        TRANSUNION INTERMEDIATE HOLDINGS, INC.    AZ    85225  NaN   \n",
              "3           Experian Information Solutions Inc.    AZ    85225  NaN   \n",
              "4           Experian Information Solutions Inc.    IL    60628  NaN   \n",
              "\n",
              "  Consumer consent provided? Submitted via Date sent to company  \\\n",
              "0                        NaN           Web           2025-06-20   \n",
              "1                        NaN           Web           2025-06-20   \n",
              "2                        NaN           Web           2025-06-20   \n",
              "3                        NaN           Web           2025-06-20   \n",
              "4                        NaN           Web           2025-06-20   \n",
              "\n",
              "  Company response to consumer Timely response? Consumer disputed?  \\\n",
              "0                  In progress              Yes                NaN   \n",
              "1      Closed with explanation              Yes                NaN   \n",
              "2                  In progress              Yes                NaN   \n",
              "3                  In progress              Yes                NaN   \n",
              "4                  In progress              Yes                NaN   \n",
              "\n",
              "   Complaint ID  \n",
              "0      14195687  \n",
              "1      14195688  \n",
              "2      14195689  \n",
              "3      14195690  \n",
              "4      14195692  "
            ]
          },
          "execution_count": 11,
          "metadata": {},
          "output_type": "execute_result"
        }
      ],
      "source": [
        "df.head()"
      ]
    },
    {
      "cell_type": "markdown",
      "id": "25ca205d",
      "metadata": {
        "id": "25ca205d"
      },
      "source": [
        "#### Data size"
      ]
    },
    {
      "cell_type": "code",
      "execution_count": null,
      "id": "2b0e782c",
      "metadata": {
        "id": "2b0e782c",
        "outputId": "24f85bae-0377-4909-c071-124d52069176"
      },
      "outputs": [
        {
          "data": {
            "text/plain": [
              "(9609797, 18)"
            ]
          },
          "execution_count": 12,
          "metadata": {},
          "output_type": "execute_result"
        }
      ],
      "source": [
        "df.shape"
      ]
    },
    {
      "cell_type": "markdown",
      "id": "908389cd",
      "metadata": {
        "id": "908389cd"
      },
      "source": [
        "#### Stastisics"
      ]
    },
    {
      "cell_type": "code",
      "execution_count": null,
      "id": "10c5e26b",
      "metadata": {
        "id": "10c5e26b",
        "outputId": "ea8d90a7-96d8-42d0-f86e-cf3a9ae5a005"
      },
      "outputs": [
        {
          "data": {
            "text/html": [
              "<div>\n",
              "<style scoped>\n",
              "    .dataframe tbody tr th:only-of-type {\n",
              "        vertical-align: middle;\n",
              "    }\n",
              "\n",
              "    .dataframe tbody tr th {\n",
              "        vertical-align: top;\n",
              "    }\n",
              "\n",
              "    .dataframe thead th {\n",
              "        text-align: right;\n",
              "    }\n",
              "</style>\n",
              "<table border=\"1\" class=\"dataframe\">\n",
              "  <thead>\n",
              "    <tr style=\"text-align: right;\">\n",
              "      <th></th>\n",
              "      <th>Date received</th>\n",
              "      <th>Product</th>\n",
              "      <th>Sub-product</th>\n",
              "      <th>Issue</th>\n",
              "      <th>Sub-issue</th>\n",
              "      <th>Consumer complaint narrative</th>\n",
              "      <th>Company public response</th>\n",
              "      <th>Company</th>\n",
              "      <th>State</th>\n",
              "      <th>ZIP code</th>\n",
              "      <th>Tags</th>\n",
              "      <th>Consumer consent provided?</th>\n",
              "      <th>Submitted via</th>\n",
              "      <th>Date sent to company</th>\n",
              "      <th>Company response to consumer</th>\n",
              "      <th>Timely response?</th>\n",
              "      <th>Consumer disputed?</th>\n",
              "      <th>Complaint ID</th>\n",
              "    </tr>\n",
              "  </thead>\n",
              "  <tbody>\n",
              "    <tr>\n",
              "      <th>count</th>\n",
              "      <td>9609797</td>\n",
              "      <td>9609797</td>\n",
              "      <td>9374502</td>\n",
              "      <td>9609791</td>\n",
              "      <td>8770275</td>\n",
              "      <td>2980756</td>\n",
              "      <td>4839590</td>\n",
              "      <td>9609797</td>\n",
              "      <td>9555281</td>\n",
              "      <td>9579569</td>\n",
              "      <td>628768</td>\n",
              "      <td>7960236</td>\n",
              "      <td>9609797</td>\n",
              "      <td>9609797</td>\n",
              "      <td>9609777</td>\n",
              "      <td>9609797</td>\n",
              "      <td>768299</td>\n",
              "      <td>9.609797e+06</td>\n",
              "    </tr>\n",
              "    <tr>\n",
              "      <th>unique</th>\n",
              "      <td>4952</td>\n",
              "      <td>21</td>\n",
              "      <td>86</td>\n",
              "      <td>178</td>\n",
              "      <td>272</td>\n",
              "      <td>2108758</td>\n",
              "      <td>11</td>\n",
              "      <td>7674</td>\n",
              "      <td>63</td>\n",
              "      <td>34965</td>\n",
              "      <td>3</td>\n",
              "      <td>4</td>\n",
              "      <td>7</td>\n",
              "      <td>4901</td>\n",
              "      <td>8</td>\n",
              "      <td>2</td>\n",
              "      <td>2</td>\n",
              "      <td>NaN</td>\n",
              "    </tr>\n",
              "    <tr>\n",
              "      <th>top</th>\n",
              "      <td>2025-01-17</td>\n",
              "      <td>Credit reporting or other personal consumer re...</td>\n",
              "      <td>Credit reporting</td>\n",
              "      <td>Incorrect information on your report</td>\n",
              "      <td>Information belongs to someone else</td>\n",
              "      <td>In accordance with the Fair Credit Reporting a...</td>\n",
              "      <td>Company has responded to the consumer and the ...</td>\n",
              "      <td>EQUIFAX, INC.</td>\n",
              "      <td>FL</td>\n",
              "      <td>XXXXX</td>\n",
              "      <td>Servicemember</td>\n",
              "      <td>Consent not provided</td>\n",
              "      <td>Web</td>\n",
              "      <td>2025-02-25</td>\n",
              "      <td>Closed with explanation</td>\n",
              "      <td>Yes</td>\n",
              "      <td>No</td>\n",
              "      <td>NaN</td>\n",
              "    </tr>\n",
              "    <tr>\n",
              "      <th>freq</th>\n",
              "      <td>34093</td>\n",
              "      <td>4834855</td>\n",
              "      <td>6955847</td>\n",
              "      <td>3613761</td>\n",
              "      <td>2324057</td>\n",
              "      <td>21622</td>\n",
              "      <td>4537468</td>\n",
              "      <td>2321626</td>\n",
              "      <td>1273171</td>\n",
              "      <td>172807</td>\n",
              "      <td>391563</td>\n",
              "      <td>4639279</td>\n",
              "      <td>9017914</td>\n",
              "      <td>32525</td>\n",
              "      <td>5487712</td>\n",
              "      <td>9535859</td>\n",
              "      <td>619921</td>\n",
              "      <td>NaN</td>\n",
              "    </tr>\n",
              "    <tr>\n",
              "      <th>mean</th>\n",
              "      <td>NaN</td>\n",
              "      <td>NaN</td>\n",
              "      <td>NaN</td>\n",
              "      <td>NaN</td>\n",
              "      <td>NaN</td>\n",
              "      <td>NaN</td>\n",
              "      <td>NaN</td>\n",
              "      <td>NaN</td>\n",
              "      <td>NaN</td>\n",
              "      <td>NaN</td>\n",
              "      <td>NaN</td>\n",
              "      <td>NaN</td>\n",
              "      <td>NaN</td>\n",
              "      <td>NaN</td>\n",
              "      <td>NaN</td>\n",
              "      <td>NaN</td>\n",
              "      <td>NaN</td>\n",
              "      <td>8.092744e+06</td>\n",
              "    </tr>\n",
              "    <tr>\n",
              "      <th>std</th>\n",
              "      <td>NaN</td>\n",
              "      <td>NaN</td>\n",
              "      <td>NaN</td>\n",
              "      <td>NaN</td>\n",
              "      <td>NaN</td>\n",
              "      <td>NaN</td>\n",
              "      <td>NaN</td>\n",
              "      <td>NaN</td>\n",
              "      <td>NaN</td>\n",
              "      <td>NaN</td>\n",
              "      <td>NaN</td>\n",
              "      <td>NaN</td>\n",
              "      <td>NaN</td>\n",
              "      <td>NaN</td>\n",
              "      <td>NaN</td>\n",
              "      <td>NaN</td>\n",
              "      <td>NaN</td>\n",
              "      <td>3.774842e+06</td>\n",
              "    </tr>\n",
              "    <tr>\n",
              "      <th>min</th>\n",
              "      <td>NaN</td>\n",
              "      <td>NaN</td>\n",
              "      <td>NaN</td>\n",
              "      <td>NaN</td>\n",
              "      <td>NaN</td>\n",
              "      <td>NaN</td>\n",
              "      <td>NaN</td>\n",
              "      <td>NaN</td>\n",
              "      <td>NaN</td>\n",
              "      <td>NaN</td>\n",
              "      <td>NaN</td>\n",
              "      <td>NaN</td>\n",
              "      <td>NaN</td>\n",
              "      <td>NaN</td>\n",
              "      <td>NaN</td>\n",
              "      <td>NaN</td>\n",
              "      <td>NaN</td>\n",
              "      <td>1.000000e+00</td>\n",
              "    </tr>\n",
              "    <tr>\n",
              "      <th>25%</th>\n",
              "      <td>NaN</td>\n",
              "      <td>NaN</td>\n",
              "      <td>NaN</td>\n",
              "      <td>NaN</td>\n",
              "      <td>NaN</td>\n",
              "      <td>NaN</td>\n",
              "      <td>NaN</td>\n",
              "      <td>NaN</td>\n",
              "      <td>NaN</td>\n",
              "      <td>NaN</td>\n",
              "      <td>NaN</td>\n",
              "      <td>NaN</td>\n",
              "      <td>NaN</td>\n",
              "      <td>NaN</td>\n",
              "      <td>NaN</td>\n",
              "      <td>NaN</td>\n",
              "      <td>NaN</td>\n",
              "      <td>5.038016e+06</td>\n",
              "    </tr>\n",
              "    <tr>\n",
              "      <th>50%</th>\n",
              "      <td>NaN</td>\n",
              "      <td>NaN</td>\n",
              "      <td>NaN</td>\n",
              "      <td>NaN</td>\n",
              "      <td>NaN</td>\n",
              "      <td>NaN</td>\n",
              "      <td>NaN</td>\n",
              "      <td>NaN</td>\n",
              "      <td>NaN</td>\n",
              "      <td>NaN</td>\n",
              "      <td>NaN</td>\n",
              "      <td>NaN</td>\n",
              "      <td>NaN</td>\n",
              "      <td>NaN</td>\n",
              "      <td>NaN</td>\n",
              "      <td>NaN</td>\n",
              "      <td>NaN</td>\n",
              "      <td>8.448508e+06</td>\n",
              "    </tr>\n",
              "    <tr>\n",
              "      <th>75%</th>\n",
              "      <td>NaN</td>\n",
              "      <td>NaN</td>\n",
              "      <td>NaN</td>\n",
              "      <td>NaN</td>\n",
              "      <td>NaN</td>\n",
              "      <td>NaN</td>\n",
              "      <td>NaN</td>\n",
              "      <td>NaN</td>\n",
              "      <td>NaN</td>\n",
              "      <td>NaN</td>\n",
              "      <td>NaN</td>\n",
              "      <td>NaN</td>\n",
              "      <td>NaN</td>\n",
              "      <td>NaN</td>\n",
              "      <td>NaN</td>\n",
              "      <td>NaN</td>\n",
              "      <td>NaN</td>\n",
              "      <td>1.129591e+07</td>\n",
              "    </tr>\n",
              "    <tr>\n",
              "      <th>max</th>\n",
              "      <td>NaN</td>\n",
              "      <td>NaN</td>\n",
              "      <td>NaN</td>\n",
              "      <td>NaN</td>\n",
              "      <td>NaN</td>\n",
              "      <td>NaN</td>\n",
              "      <td>NaN</td>\n",
              "      <td>NaN</td>\n",
              "      <td>NaN</td>\n",
              "      <td>NaN</td>\n",
              "      <td>NaN</td>\n",
              "      <td>NaN</td>\n",
              "      <td>NaN</td>\n",
              "      <td>NaN</td>\n",
              "      <td>NaN</td>\n",
              "      <td>NaN</td>\n",
              "      <td>NaN</td>\n",
              "      <td>1.423259e+07</td>\n",
              "    </tr>\n",
              "  </tbody>\n",
              "</table>\n",
              "</div>"
            ],
            "text/plain": [
              "       Date received                                            Product  \\\n",
              "count        9609797                                            9609797   \n",
              "unique          4952                                                 21   \n",
              "top       2025-01-17  Credit reporting or other personal consumer re...   \n",
              "freq           34093                                            4834855   \n",
              "mean             NaN                                                NaN   \n",
              "std              NaN                                                NaN   \n",
              "min              NaN                                                NaN   \n",
              "25%              NaN                                                NaN   \n",
              "50%              NaN                                                NaN   \n",
              "75%              NaN                                                NaN   \n",
              "max              NaN                                                NaN   \n",
              "\n",
              "             Sub-product                                 Issue  \\\n",
              "count            9374502                               9609791   \n",
              "unique                86                                   178   \n",
              "top     Credit reporting  Incorrect information on your report   \n",
              "freq             6955847                               3613761   \n",
              "mean                 NaN                                   NaN   \n",
              "std                  NaN                                   NaN   \n",
              "min                  NaN                                   NaN   \n",
              "25%                  NaN                                   NaN   \n",
              "50%                  NaN                                   NaN   \n",
              "75%                  NaN                                   NaN   \n",
              "max                  NaN                                   NaN   \n",
              "\n",
              "                                  Sub-issue  \\\n",
              "count                               8770275   \n",
              "unique                                  272   \n",
              "top     Information belongs to someone else   \n",
              "freq                                2324057   \n",
              "mean                                    NaN   \n",
              "std                                     NaN   \n",
              "min                                     NaN   \n",
              "25%                                     NaN   \n",
              "50%                                     NaN   \n",
              "75%                                     NaN   \n",
              "max                                     NaN   \n",
              "\n",
              "                             Consumer complaint narrative  \\\n",
              "count                                             2980756   \n",
              "unique                                            2108758   \n",
              "top     In accordance with the Fair Credit Reporting a...   \n",
              "freq                                                21622   \n",
              "mean                                                  NaN   \n",
              "std                                                   NaN   \n",
              "min                                                   NaN   \n",
              "25%                                                   NaN   \n",
              "50%                                                   NaN   \n",
              "75%                                                   NaN   \n",
              "max                                                   NaN   \n",
              "\n",
              "                                  Company public response        Company  \\\n",
              "count                                             4839590        9609797   \n",
              "unique                                                 11           7674   \n",
              "top     Company has responded to the consumer and the ...  EQUIFAX, INC.   \n",
              "freq                                              4537468        2321626   \n",
              "mean                                                  NaN            NaN   \n",
              "std                                                   NaN            NaN   \n",
              "min                                                   NaN            NaN   \n",
              "25%                                                   NaN            NaN   \n",
              "50%                                                   NaN            NaN   \n",
              "75%                                                   NaN            NaN   \n",
              "max                                                   NaN            NaN   \n",
              "\n",
              "          State ZIP code           Tags Consumer consent provided?  \\\n",
              "count   9555281  9579569         628768                    7960236   \n",
              "unique       63    34965              3                          4   \n",
              "top          FL    XXXXX  Servicemember       Consent not provided   \n",
              "freq    1273171   172807         391563                    4639279   \n",
              "mean        NaN      NaN            NaN                        NaN   \n",
              "std         NaN      NaN            NaN                        NaN   \n",
              "min         NaN      NaN            NaN                        NaN   \n",
              "25%         NaN      NaN            NaN                        NaN   \n",
              "50%         NaN      NaN            NaN                        NaN   \n",
              "75%         NaN      NaN            NaN                        NaN   \n",
              "max         NaN      NaN            NaN                        NaN   \n",
              "\n",
              "       Submitted via Date sent to company Company response to consumer  \\\n",
              "count        9609797              9609797                      9609777   \n",
              "unique             7                 4901                            8   \n",
              "top              Web           2025-02-25      Closed with explanation   \n",
              "freq         9017914                32525                      5487712   \n",
              "mean             NaN                  NaN                          NaN   \n",
              "std              NaN                  NaN                          NaN   \n",
              "min              NaN                  NaN                          NaN   \n",
              "25%              NaN                  NaN                          NaN   \n",
              "50%              NaN                  NaN                          NaN   \n",
              "75%              NaN                  NaN                          NaN   \n",
              "max              NaN                  NaN                          NaN   \n",
              "\n",
              "       Timely response? Consumer disputed?  Complaint ID  \n",
              "count           9609797             768299  9.609797e+06  \n",
              "unique                2                  2           NaN  \n",
              "top                 Yes                 No           NaN  \n",
              "freq            9535859             619921           NaN  \n",
              "mean                NaN                NaN  8.092744e+06  \n",
              "std                 NaN                NaN  3.774842e+06  \n",
              "min                 NaN                NaN  1.000000e+00  \n",
              "25%                 NaN                NaN  5.038016e+06  \n",
              "50%                 NaN                NaN  8.448508e+06  \n",
              "75%                 NaN                NaN  1.129591e+07  \n",
              "max                 NaN                NaN  1.423259e+07  "
            ]
          },
          "execution_count": 13,
          "metadata": {},
          "output_type": "execute_result"
        }
      ],
      "source": [
        "df.describe(include='all')"
      ]
    },
    {
      "cell_type": "code",
      "execution_count": null,
      "id": "341aef97",
      "metadata": {
        "id": "341aef97",
        "outputId": "4438700e-1755-4f1d-df12-ec0f07a6f531"
      },
      "outputs": [
        {
          "data": {
            "text/html": [
              "<div>\n",
              "<style scoped>\n",
              "    .dataframe tbody tr th:only-of-type {\n",
              "        vertical-align: middle;\n",
              "    }\n",
              "\n",
              "    .dataframe tbody tr th {\n",
              "        vertical-align: top;\n",
              "    }\n",
              "\n",
              "    .dataframe thead th {\n",
              "        text-align: right;\n",
              "    }\n",
              "</style>\n",
              "<table border=\"1\" class=\"dataframe\">\n",
              "  <thead>\n",
              "    <tr style=\"text-align: right;\">\n",
              "      <th></th>\n",
              "      <th>Product</th>\n",
              "      <th>Count</th>\n",
              "    </tr>\n",
              "  </thead>\n",
              "  <tbody>\n",
              "    <tr>\n",
              "      <th>1</th>\n",
              "      <td>Credit reporting or other personal consumer re...</td>\n",
              "      <td>4834855</td>\n",
              "    </tr>\n",
              "    <tr>\n",
              "      <th>2</th>\n",
              "      <td>Credit reporting, credit repair services, or o...</td>\n",
              "      <td>2163857</td>\n",
              "    </tr>\n",
              "    <tr>\n",
              "      <th>3</th>\n",
              "      <td>Debt collection</td>\n",
              "      <td>799197</td>\n",
              "    </tr>\n",
              "    <tr>\n",
              "      <th>4</th>\n",
              "      <td>Mortgage</td>\n",
              "      <td>422254</td>\n",
              "    </tr>\n",
              "    <tr>\n",
              "      <th>5</th>\n",
              "      <td>Checking or savings account</td>\n",
              "      <td>291178</td>\n",
              "    </tr>\n",
              "    <tr>\n",
              "      <th>6</th>\n",
              "      <td>Credit card</td>\n",
              "      <td>226686</td>\n",
              "    </tr>\n",
              "    <tr>\n",
              "      <th>7</th>\n",
              "      <td>Credit card or prepaid card</td>\n",
              "      <td>206369</td>\n",
              "    </tr>\n",
              "    <tr>\n",
              "      <th>8</th>\n",
              "      <td>Money transfer, virtual currency, or money ser...</td>\n",
              "      <td>145066</td>\n",
              "    </tr>\n",
              "    <tr>\n",
              "      <th>9</th>\n",
              "      <td>Credit reporting</td>\n",
              "      <td>140429</td>\n",
              "    </tr>\n",
              "    <tr>\n",
              "      <th>10</th>\n",
              "      <td>Student loan</td>\n",
              "      <td>109717</td>\n",
              "    </tr>\n",
              "    <tr>\n",
              "      <th>11</th>\n",
              "      <td>Bank account or service</td>\n",
              "      <td>86205</td>\n",
              "    </tr>\n",
              "    <tr>\n",
              "      <th>12</th>\n",
              "      <td>Vehicle loan or lease</td>\n",
              "      <td>72957</td>\n",
              "    </tr>\n",
              "    <tr>\n",
              "      <th>13</th>\n",
              "      <td>Consumer Loan</td>\n",
              "      <td>31574</td>\n",
              "    </tr>\n",
              "    <tr>\n",
              "      <th>14</th>\n",
              "      <td>Payday loan, title loan, or personal loan</td>\n",
              "      <td>30641</td>\n",
              "    </tr>\n",
              "    <tr>\n",
              "      <th>15</th>\n",
              "      <td>Payday loan, title loan, personal loan, or adv...</td>\n",
              "      <td>16514</td>\n",
              "    </tr>\n",
              "    <tr>\n",
              "      <th>16</th>\n",
              "      <td>Prepaid card</td>\n",
              "      <td>15280</td>\n",
              "    </tr>\n",
              "    <tr>\n",
              "      <th>17</th>\n",
              "      <td>Payday loan</td>\n",
              "      <td>5541</td>\n",
              "    </tr>\n",
              "    <tr>\n",
              "      <th>18</th>\n",
              "      <td>Money transfers</td>\n",
              "      <td>5354</td>\n",
              "    </tr>\n",
              "    <tr>\n",
              "      <th>19</th>\n",
              "      <td>Debt or credit management</td>\n",
              "      <td>5047</td>\n",
              "    </tr>\n",
              "    <tr>\n",
              "      <th>20</th>\n",
              "      <td>Other financial service</td>\n",
              "      <td>1058</td>\n",
              "    </tr>\n",
              "    <tr>\n",
              "      <th>21</th>\n",
              "      <td>Virtual currency</td>\n",
              "      <td>18</td>\n",
              "    </tr>\n",
              "  </tbody>\n",
              "</table>\n",
              "</div>"
            ],
            "text/plain": [
              "                                              Product    Count\n",
              "1   Credit reporting or other personal consumer re...  4834855\n",
              "2   Credit reporting, credit repair services, or o...  2163857\n",
              "3                                     Debt collection   799197\n",
              "4                                            Mortgage   422254\n",
              "5                         Checking or savings account   291178\n",
              "6                                         Credit card   226686\n",
              "7                         Credit card or prepaid card   206369\n",
              "8   Money transfer, virtual currency, or money ser...   145066\n",
              "9                                    Credit reporting   140429\n",
              "10                                       Student loan   109717\n",
              "11                            Bank account or service    86205\n",
              "12                              Vehicle loan or lease    72957\n",
              "13                                      Consumer Loan    31574\n",
              "14          Payday loan, title loan, or personal loan    30641\n",
              "15  Payday loan, title loan, personal loan, or adv...    16514\n",
              "16                                       Prepaid card    15280\n",
              "17                                        Payday loan     5541\n",
              "18                                    Money transfers     5354\n",
              "19                          Debt or credit management     5047\n",
              "20                            Other financial service     1058\n",
              "21                                   Virtual currency       18"
            ]
          },
          "execution_count": 14,
          "metadata": {},
          "output_type": "execute_result"
        }
      ],
      "source": [
        "product_counts = df['Product'].value_counts().reset_index()\n",
        "product_counts.columns = ['Product', 'Count']\n",
        "product_counts.index = product_counts.index + 1\n",
        "product_counts"
      ]
    },
    {
      "cell_type": "markdown",
      "id": "5b6aed3d",
      "metadata": {
        "id": "5b6aed3d"
      },
      "source": [
        "#### Data types"
      ]
    },
    {
      "cell_type": "code",
      "execution_count": null,
      "id": "eb51c648",
      "metadata": {
        "id": "eb51c648",
        "outputId": "a2563ad4-0cdc-4ade-ef36-e834e630a2f0"
      },
      "outputs": [
        {
          "data": {
            "text/plain": [
              "Date received                   object\n",
              "Product                         object\n",
              "Sub-product                     object\n",
              "Issue                           object\n",
              "Sub-issue                       object\n",
              "Consumer complaint narrative    object\n",
              "Company public response         object\n",
              "Company                         object\n",
              "State                           object\n",
              "ZIP code                        object\n",
              "Tags                            object\n",
              "Consumer consent provided?      object\n",
              "Submitted via                   object\n",
              "Date sent to company            object\n",
              "Company response to consumer    object\n",
              "Timely response?                object\n",
              "Consumer disputed?              object\n",
              "Complaint ID                     int64\n",
              "dtype: object"
            ]
          },
          "execution_count": 17,
          "metadata": {},
          "output_type": "execute_result"
        }
      ],
      "source": [
        "df.dtypes"
      ]
    },
    {
      "cell_type": "markdown",
      "id": "1c8bb909",
      "metadata": {
        "id": "1c8bb909"
      },
      "source": [
        "#### Find missing values"
      ]
    },
    {
      "cell_type": "code",
      "execution_count": null,
      "id": "19cb778a",
      "metadata": {
        "id": "19cb778a",
        "outputId": "8aadb03b-9f86-4181-cf4f-a98d7513a583"
      },
      "outputs": [
        {
          "data": {
            "text/plain": [
              "Date received                         0\n",
              "Product                               0\n",
              "Sub-product                      235295\n",
              "Issue                                 6\n",
              "Sub-issue                        839522\n",
              "Consumer complaint narrative    6629041\n",
              "Company public response         4770207\n",
              "Company                               0\n",
              "State                             54516\n",
              "ZIP code                          30228\n",
              "Tags                            8981029\n",
              "Consumer consent provided?      1649561\n",
              "Submitted via                         0\n",
              "Date sent to company                  0\n",
              "Company response to consumer         20\n",
              "Timely response?                      0\n",
              "Consumer disputed?              8841498\n",
              "Complaint ID                          0\n",
              "dtype: int64"
            ]
          },
          "execution_count": 15,
          "metadata": {},
          "output_type": "execute_result"
        }
      ],
      "source": [
        "df.isnull().sum()"
      ]
    },
    {
      "cell_type": "markdown",
      "id": "de1a6c37",
      "metadata": {
        "id": "de1a6c37"
      },
      "source": [
        "#### Drop all Consumer complaint narrative is null"
      ]
    },
    {
      "cell_type": "code",
      "execution_count": null,
      "id": "b2ce2e1b",
      "metadata": {
        "id": "b2ce2e1b"
      },
      "outputs": [],
      "source": [
        "# Drop rows where 'Consumer complaint narrative' is null\n",
        "df_clean = df.dropna(subset=['Consumer complaint narrative'])\n",
        "\n",
        "# Save the cleaned DataFrame to a new CSV file\n",
        "df_clean.to_csv('../data/clean_complaints.csv', index=False)\n",
        "# ...existing code..."
      ]
    },
    {
      "cell_type": "markdown",
      "id": "e1af825c",
      "metadata": {
        "id": "e1af825c"
      },
      "source": [
        "#### Data no null consumer complaint narrative"
      ]
    },
    {
      "cell_type": "code",
      "execution_count": null,
      "id": "afaf620c",
      "metadata": {
        "id": "afaf620c"
      },
      "outputs": [],
      "source": [
        "df_clean = pd.read_csv('../data/clean_complaints.csv', low_memory=False)"
      ]
    },
    {
      "cell_type": "markdown",
      "id": "46e76680",
      "metadata": {
        "id": "46e76680"
      },
      "source": [
        "#### Data size after consumer complaint narrative is dropped"
      ]
    },
    {
      "cell_type": "code",
      "execution_count": null,
      "id": "e413df52",
      "metadata": {
        "id": "e413df52",
        "outputId": "8fc8e452-898d-4698-891b-7c91f7e3b871"
      },
      "outputs": [
        {
          "data": {
            "text/plain": [
              "(2980756, 18)"
            ]
          },
          "execution_count": 20,
          "metadata": {},
          "output_type": "execute_result"
        }
      ],
      "source": [
        "df_clean.shape"
      ]
    },
    {
      "cell_type": "markdown",
      "id": "af097168",
      "metadata": {
        "id": "af097168"
      },
      "source": [
        "#### Sample data"
      ]
    },
    {
      "cell_type": "code",
      "execution_count": null,
      "id": "95aeca0f",
      "metadata": {
        "id": "95aeca0f",
        "outputId": "7d582fec-597f-49eb-bab6-b94206df4215"
      },
      "outputs": [
        {
          "data": {
            "text/html": [
              "<div>\n",
              "<style scoped>\n",
              "    .dataframe tbody tr th:only-of-type {\n",
              "        vertical-align: middle;\n",
              "    }\n",
              "\n",
              "    .dataframe tbody tr th {\n",
              "        vertical-align: top;\n",
              "    }\n",
              "\n",
              "    .dataframe thead th {\n",
              "        text-align: right;\n",
              "    }\n",
              "</style>\n",
              "<table border=\"1\" class=\"dataframe\">\n",
              "  <thead>\n",
              "    <tr style=\"text-align: right;\">\n",
              "      <th></th>\n",
              "      <th>Date received</th>\n",
              "      <th>Product</th>\n",
              "      <th>Sub-product</th>\n",
              "      <th>Issue</th>\n",
              "      <th>Sub-issue</th>\n",
              "      <th>Consumer complaint narrative</th>\n",
              "      <th>Company public response</th>\n",
              "      <th>Company</th>\n",
              "      <th>State</th>\n",
              "      <th>ZIP code</th>\n",
              "      <th>Tags</th>\n",
              "      <th>Consumer consent provided?</th>\n",
              "      <th>Submitted via</th>\n",
              "      <th>Date sent to company</th>\n",
              "      <th>Company response to consumer</th>\n",
              "      <th>Timely response?</th>\n",
              "      <th>Consumer disputed?</th>\n",
              "      <th>Complaint ID</th>\n",
              "    </tr>\n",
              "  </thead>\n",
              "  <tbody>\n",
              "    <tr>\n",
              "      <th>0</th>\n",
              "      <td>2025-03-06</td>\n",
              "      <td>Credit reporting or other personal consumer re...</td>\n",
              "      <td>Credit reporting</td>\n",
              "      <td>Problem with fraud alerts or security freezes</td>\n",
              "      <td>NaN</td>\n",
              "      <td>XXXX XXXX XXXX XXXX XXXX XXXX XXXX XXXX Apt XX...</td>\n",
              "      <td>Company has responded to the consumer and the ...</td>\n",
              "      <td>TRANSUNION INTERMEDIATE HOLDINGS, INC.</td>\n",
              "      <td>TX</td>\n",
              "      <td>75211</td>\n",
              "      <td>NaN</td>\n",
              "      <td>Consent provided</td>\n",
              "      <td>Web</td>\n",
              "      <td>2025-03-06</td>\n",
              "      <td>Closed with explanation</td>\n",
              "      <td>Yes</td>\n",
              "      <td>NaN</td>\n",
              "      <td>12351447</td>\n",
              "    </tr>\n",
              "    <tr>\n",
              "      <th>1</th>\n",
              "      <td>2025-02-26</td>\n",
              "      <td>Credit reporting or other personal consumer re...</td>\n",
              "      <td>Credit reporting</td>\n",
              "      <td>Incorrect information on your report</td>\n",
              "      <td>Information is missing that should be on the r...</td>\n",
              "      <td>Subject : Dispute of Unauthorized Hard Inquiri...</td>\n",
              "      <td>Company has responded to the consumer and the ...</td>\n",
              "      <td>Experian Information Solutions Inc.</td>\n",
              "      <td>FL</td>\n",
              "      <td>331XX</td>\n",
              "      <td>NaN</td>\n",
              "      <td>Consent provided</td>\n",
              "      <td>Web</td>\n",
              "      <td>2025-02-26</td>\n",
              "      <td>Closed with explanation</td>\n",
              "      <td>Yes</td>\n",
              "      <td>NaN</td>\n",
              "      <td>12203565</td>\n",
              "    </tr>\n",
              "    <tr>\n",
              "      <th>2</th>\n",
              "      <td>2025-06-15</td>\n",
              "      <td>Mortgage</td>\n",
              "      <td>Conventional home mortgage</td>\n",
              "      <td>Applying for a mortgage or refinancing an exis...</td>\n",
              "      <td>Changes in loan terms during the application p...</td>\n",
              "      <td>I signed a purchase agreement with Lennar Corp...</td>\n",
              "      <td>Company has responded to the consumer and the ...</td>\n",
              "      <td>Lennar Financial Services, LLC</td>\n",
              "      <td>IL</td>\n",
              "      <td>60538</td>\n",
              "      <td>NaN</td>\n",
              "      <td>Consent provided</td>\n",
              "      <td>Web</td>\n",
              "      <td>2025-06-15</td>\n",
              "      <td>Closed with explanation</td>\n",
              "      <td>Yes</td>\n",
              "      <td>NaN</td>\n",
              "      <td>14089944</td>\n",
              "    </tr>\n",
              "    <tr>\n",
              "      <th>3</th>\n",
              "      <td>2025-06-14</td>\n",
              "      <td>Credit reporting or other personal consumer re...</td>\n",
              "      <td>Credit reporting</td>\n",
              "      <td>Improper use of your report</td>\n",
              "      <td>Reporting company used your report improperly</td>\n",
              "      <td>After checking my report, I found numerous acc...</td>\n",
              "      <td>Company has responded to the consumer and the ...</td>\n",
              "      <td>Fidelity National Information Services, Inc. (...</td>\n",
              "      <td>FL</td>\n",
              "      <td>32303</td>\n",
              "      <td>NaN</td>\n",
              "      <td>Consent provided</td>\n",
              "      <td>Web</td>\n",
              "      <td>2025-06-14</td>\n",
              "      <td>Closed with explanation</td>\n",
              "      <td>Yes</td>\n",
              "      <td>NaN</td>\n",
              "      <td>14080390</td>\n",
              "    </tr>\n",
              "    <tr>\n",
              "      <th>4</th>\n",
              "      <td>2025-06-13</td>\n",
              "      <td>Credit card</td>\n",
              "      <td>Store credit card</td>\n",
              "      <td>Getting a credit card</td>\n",
              "      <td>Card opened without my consent or knowledge</td>\n",
              "      <td>A XXXX XXXX card was opened under my name by a...</td>\n",
              "      <td>Company has responded to the consumer and the ...</td>\n",
              "      <td>CITIBANK, N.A.</td>\n",
              "      <td>TX</td>\n",
              "      <td>78230</td>\n",
              "      <td>Servicemember</td>\n",
              "      <td>Consent provided</td>\n",
              "      <td>Web</td>\n",
              "      <td>2025-06-13</td>\n",
              "      <td>Closed with non-monetary relief</td>\n",
              "      <td>Yes</td>\n",
              "      <td>NaN</td>\n",
              "      <td>14069121</td>\n",
              "    </tr>\n",
              "  </tbody>\n",
              "</table>\n",
              "</div>"
            ],
            "text/plain": [
              "  Date received                                            Product  \\\n",
              "0    2025-03-06  Credit reporting or other personal consumer re...   \n",
              "1    2025-02-26  Credit reporting or other personal consumer re...   \n",
              "2    2025-06-15                                           Mortgage   \n",
              "3    2025-06-14  Credit reporting or other personal consumer re...   \n",
              "4    2025-06-13                                        Credit card   \n",
              "\n",
              "                  Sub-product  \\\n",
              "0            Credit reporting   \n",
              "1            Credit reporting   \n",
              "2  Conventional home mortgage   \n",
              "3            Credit reporting   \n",
              "4           Store credit card   \n",
              "\n",
              "                                               Issue  \\\n",
              "0      Problem with fraud alerts or security freezes   \n",
              "1               Incorrect information on your report   \n",
              "2  Applying for a mortgage or refinancing an exis...   \n",
              "3                        Improper use of your report   \n",
              "4                              Getting a credit card   \n",
              "\n",
              "                                           Sub-issue  \\\n",
              "0                                                NaN   \n",
              "1  Information is missing that should be on the r...   \n",
              "2  Changes in loan terms during the application p...   \n",
              "3      Reporting company used your report improperly   \n",
              "4        Card opened without my consent or knowledge   \n",
              "\n",
              "                        Consumer complaint narrative  \\\n",
              "0  XXXX XXXX XXXX XXXX XXXX XXXX XXXX XXXX Apt XX...   \n",
              "1  Subject : Dispute of Unauthorized Hard Inquiri...   \n",
              "2  I signed a purchase agreement with Lennar Corp...   \n",
              "3  After checking my report, I found numerous acc...   \n",
              "4  A XXXX XXXX card was opened under my name by a...   \n",
              "\n",
              "                             Company public response  \\\n",
              "0  Company has responded to the consumer and the ...   \n",
              "1  Company has responded to the consumer and the ...   \n",
              "2  Company has responded to the consumer and the ...   \n",
              "3  Company has responded to the consumer and the ...   \n",
              "4  Company has responded to the consumer and the ...   \n",
              "\n",
              "                                             Company State ZIP code  \\\n",
              "0             TRANSUNION INTERMEDIATE HOLDINGS, INC.    TX    75211   \n",
              "1                Experian Information Solutions Inc.    FL    331XX   \n",
              "2                     Lennar Financial Services, LLC    IL    60538   \n",
              "3  Fidelity National Information Services, Inc. (...    FL    32303   \n",
              "4                                     CITIBANK, N.A.    TX    78230   \n",
              "\n",
              "            Tags Consumer consent provided? Submitted via  \\\n",
              "0            NaN           Consent provided           Web   \n",
              "1            NaN           Consent provided           Web   \n",
              "2            NaN           Consent provided           Web   \n",
              "3            NaN           Consent provided           Web   \n",
              "4  Servicemember           Consent provided           Web   \n",
              "\n",
              "  Date sent to company     Company response to consumer Timely response?  \\\n",
              "0           2025-03-06          Closed with explanation              Yes   \n",
              "1           2025-02-26          Closed with explanation              Yes   \n",
              "2           2025-06-15          Closed with explanation              Yes   \n",
              "3           2025-06-14          Closed with explanation              Yes   \n",
              "4           2025-06-13  Closed with non-monetary relief              Yes   \n",
              "\n",
              "  Consumer disputed?  Complaint ID  \n",
              "0                NaN      12351447  \n",
              "1                NaN      12203565  \n",
              "2                NaN      14089944  \n",
              "3                NaN      14080390  \n",
              "4                NaN      14069121  "
            ]
          },
          "execution_count": 21,
          "metadata": {},
          "output_type": "execute_result"
        }
      ],
      "source": [
        "df_clean.head()"
      ]
    },
    {
      "cell_type": "code",
      "execution_count": null,
      "id": "4ee6b85a",
      "metadata": {
        "id": "4ee6b85a",
        "outputId": "5c4ceb44-c0f3-4c36-fe84-b23e84bc6834"
      },
      "outputs": [
        {
          "data": {
            "text/plain": [
              "Date received                         0\n",
              "Product                               0\n",
              "Sub-product                       52206\n",
              "Issue                                 0\n",
              "Sub-issue                        297406\n",
              "Consumer complaint narrative          0\n",
              "Company public response         1379416\n",
              "Company                               0\n",
              "State                             10969\n",
              "ZIP code                              0\n",
              "Tags                            2671491\n",
              "Consumer consent provided?            0\n",
              "Submitted via                         0\n",
              "Date sent to company                  0\n",
              "Company response to consumer          9\n",
              "Timely response?                      0\n",
              "Consumer disputed?              2816747\n",
              "Complaint ID                          0\n",
              "dtype: int64"
            ]
          },
          "execution_count": 23,
          "metadata": {},
          "output_type": "execute_result"
        }
      ],
      "source": [
        "df_clean.isnull().sum()"
      ]
    },
    {
      "cell_type": "code",
      "execution_count": null,
      "id": "ca3df7ab",
      "metadata": {
        "id": "ca3df7ab",
        "outputId": "907bd116-e631-4d7e-9429-90e760163837"
      },
      "outputs": [
        {
          "data": {
            "text/plain": [
              "<Figure size 1500x600 with 0 Axes>"
            ]
          },
          "metadata": {},
          "output_type": "display_data"
        },
        {
          "data": {
            "image/png": "[encoded data removed]",
            "text/plain": [
              "<Figure size 640x480 with 1 Axes>"
            ]
          },
          "metadata": {},
          "output_type": "display_data"
        }
      ],
      "source": [
        "# Analyze the distribution of complaints across different Products\n",
        "product_counts = df_clean['Product'].value_counts().reset_index()\n",
        "product_counts.columns = ['Product', 'Count']\n",
        "product_counts.index = product_counts.index + 1  # Start numbering from 1\n",
        "\n",
        "# Display the table\n",
        "# display(product_counts)\n",
        "\n",
        "# Plot the top 10 products by complaint count\n",
        "plt.figure(figsize=(15,6))\n",
        "product_counts.head(10).plot(\n",
        "    kind='bar',\n",
        "    x='Product',\n",
        "    y='Count',\n",
        "    legend=False,\n",
        "    color='skyblue'\n",
        ")\n",
        "plt.title('Top 10 Products by Number of Complaints')\n",
        "plt.ylabel('Number of Complaints')\n",
        "plt.xlabel('Product')\n",
        "plt.xticks(rotation=45, ha='right')\n",
        "plt.tight_layout()\n",
        "plt.show()\n",
        "# ...existing code..."
      ]
    },
    {
      "cell_type": "markdown",
      "id": "737c36c2",
      "metadata": {
        "id": "737c36c2"
      },
      "source": [
        "#### Calculate and visualize the length (word count) of the Consumer complaint narrative. Are there very short or very long narratives"
      ]
    },
    {
      "cell_type": "code",
      "execution_count": null,
      "id": "5a0caa78",
      "metadata": {
        "id": "5a0caa78",
        "outputId": "3187439d-4257-45af-f185-29cd1531ed92"
      },
      "outputs": [
        {
          "name": "stdout",
          "output_type": "stream",
          "text": [
            "count    2.980756e+06\n",
            "mean     1.755976e+02\n",
            "std      2.259282e+02\n",
            "min      1.000000e+00\n",
            "25%      5.900000e+01\n",
            "50%      1.140000e+02\n",
            "75%      2.090000e+02\n",
            "max      6.469000e+03\n",
            "Name: narrative_word_count, dtype: float64\n"
          ]
        },
        {
          "data": {
            "image/png": "[encoded data removed]",
            "text/plain": [
              "<Figure size 1000x600 with 1 Axes>"
            ]
          },
          "metadata": {},
          "output_type": "display_data"
        },
        {
          "name": "stdout",
          "output_type": "stream",
          "text": [
            "Very short narratives (<=5 words): 4871\n",
            "Very long narratives (>=500 words): 161598\n"
          ]
        }
      ],
      "source": [
        "\n",
        "# Calculate the word count for each Consumer complaint narrative\n",
        "df_clean['narrative_word_count'] = df_clean['Consumer complaint narrative'].astype(str).apply(lambda x: len(x.split()))\n",
        "\n",
        "# Display basic statistics about word counts\n",
        "print(df_clean['narrative_word_count'].describe())\n",
        "\n",
        "# Visualize the distribution of word counts\n",
        "plt.figure(figsize=(10,6))\n",
        "df_clean['narrative_word_count'].hist(bins=50, color='skyblue', edgecolor='black')\n",
        "plt.title('Distribution of Word Count in Consumer Complaint Narratives')\n",
        "plt.xlabel('Word Count')\n",
        "plt.ylabel('Number of Complaints')\n",
        "plt.tight_layout()\n",
        "plt.show()\n",
        "\n",
        "# Check for very short or very long narratives\n",
        "print(\"Very short narratives (<=5 words):\", (df_clean['narrative_word_count'] <= 5).sum())\n",
        "print(\"Very long narratives (>=500 words):\", (df_clean['narrative_word_count'] >= 500).sum())\n",
        "# ...existing code..."
      ]
    },
    {
      "cell_type": "markdown",
      "id": "16656d33",
      "metadata": {
        "id": "16656d33"
      },
      "source": [
        "#### Identify the number of complaints with and without narratives"
      ]
    },
    {
      "cell_type": "code",
      "execution_count": null,
      "id": "744c4aa9",
      "metadata": {
        "id": "744c4aa9",
        "outputId": "ebe71d9c-d479-4bf1-ccd3-1478bc41fa35"
      },
      "outputs": [
        {
          "name": "stdout",
          "output_type": "stream",
          "text": [
            "Number of complaints with narrative: 2980756\n",
            "Number of complaints without narrative: 6629041\n"
          ]
        }
      ],
      "source": [
        "# Number of complaints with a narrative\n",
        "with_narrative = df['Consumer complaint narrative'].notnull().sum()\n",
        "print(\"Number of complaints with narrative:\", with_narrative)\n",
        "\n",
        "# Number of complaints without a narrative\n",
        "without_narrative = df['Consumer complaint narrative'].isnull().sum()\n",
        "print(\"Number of complaints without narrative:\", without_narrative)\n",
        "# ...existing code..."
      ]
    }
  ],
  "metadata": {
    "kernelspec": {
      "display_name": "venv",
      "language": "python",
      "name": "python3"
    },
    "language_info": {
      "codemirror_mode": {
        "name": "ipython",
        "version": 3
      },
      "file_extension": ".py",
      "mimetype": "text/x-python",
      "name": "python",
      "nbconvert_exporter": "python",
      "pygments_lexer": "ipython3",
      "version": "3.13.3"
    },
    "colab": {
      "provenance": []
    }
  },
  "nbformat": 4,
  "nbformat_minor": 5
}